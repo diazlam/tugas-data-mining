{
  "cells": [
    {
      "cell_type": "code",
      "execution_count": 13,
      "metadata": {
        "id": "KRFvANeG7Dd4"
      },
      "outputs": [],
      "source": [
        "import numpy as np\n",
        "import matplotlib.pyplot as plt\n",
        "import pandas as pd"
      ]
    },
    {
      "cell_type": "code",
      "execution_count": 14,
      "metadata": {
        "id": "IPK4YLaN7Kwf"
      },
      "outputs": [],
      "source": [
        "dataset = pd.read_csv('/content/Data.csv')\n",
        "x = dataset.iloc[:, :3].values\n",
        "y = dataset.iloc[:, -1].values"
      ]
    },
    {
      "cell_type": "code",
      "source": [
        "# Cek apakah ada missing value dengan fungsi isnull()\n",
        "mv = dataset.isnull().sum() # sum() fungsi untuk menghitung total dari missing value\n",
        "print(mv)"
      ],
      "metadata": {
        "colab": {
          "base_uri": "https://localhost:8080/"
        },
        "id": "m-7x4Io4nqCT",
        "outputId": "5407e04b-4764-47ff-d2ed-584427203edd"
      },
      "execution_count": 15,
      "outputs": [
        {
          "output_type": "stream",
          "name": "stdout",
          "text": [
            "Country      0\n",
            "Age          1\n",
            "Salary       2\n",
            "Purchased    0\n",
            "dtype: int64\n"
          ]
        }
      ]
    },
    {
      "cell_type": "code",
      "execution_count": 16,
      "metadata": {
        "colab": {
          "base_uri": "https://localhost:8080/"
        },
        "id": "h2pGDvF97Z6X",
        "outputId": "765bf07c-d067-4c17-84d9-da487c53f4b9"
      },
      "outputs": [
        {
          "output_type": "stream",
          "name": "stdout",
          "text": [
            "[['Malaysia' 44.0 72000.0]\n",
            " ['Singapore' 27.0 48000.0]\n",
            " ['Thailand' 30.0 nan]\n",
            " ['Indonesia' nan 61000.0]\n",
            " ['Indonesia' 40.0 25000.0]\n",
            " ['Singapore' 35.0 58000.0]\n",
            " ['Thailand' 40.0 52000.0]\n",
            " ['Malaysia' 48.0 nan]\n",
            " ['Indonesia' 50.0 83000.0]\n",
            " ['China' 30.0 67000.0]]\n"
          ]
        }
      ],
      "source": [
        "print(x)"
      ]
    },
    {
      "cell_type": "code",
      "execution_count": 17,
      "metadata": {
        "colab": {
          "base_uri": "https://localhost:8080/"
        },
        "id": "dT5aEjIW7dMq",
        "outputId": "cfbb1d29-7e1f-4847-adf4-f0a41402df6f"
      },
      "outputs": [
        {
          "output_type": "stream",
          "name": "stdout",
          "text": [
            "['No' 'Yes' 'No' 'Yes' 'No' 'Yes' 'Yes' 'Yes' 'No' 'Yes']\n"
          ]
        }
      ],
      "source": [
        "print(y)"
      ]
    },
    {
      "cell_type": "code",
      "execution_count": 18,
      "metadata": {
        "id": "U_YsReX47gIO"
      },
      "outputs": [],
      "source": [
        "from sklearn.impute import SimpleImputer\n",
        "imputer = SimpleImputer(missing_values=np.nan, strategy='mean')\n",
        "imputer.fit(x[:, 1:3])\n",
        "x[:, 1:3] = imputer.transform(x[:, 1:3])"
      ]
    },
    {
      "cell_type": "code",
      "source": [
        "# Cara lain mengisi data pada data yang bernilai missing value\n",
        "# age_median = x['Age'].median() #untuk mengetahui nilai media kolom Age\n",
        "# salary_median = x['Salary'].median() #untuk mengetahui nilai media kolom Salary\n",
        "\n",
        "# x['Age'].fillna(age_median, inplace=True)\n",
        "# x['Salary'].fillna(salary_median, inplace=True)"
      ],
      "metadata": {
        "id": "Y0ayAUtc_W4o"
      },
      "execution_count": null,
      "outputs": []
    },
    {
      "cell_type": "code",
      "execution_count": 19,
      "metadata": {
        "colab": {
          "base_uri": "https://localhost:8080/"
        },
        "id": "ElDzrTjt7jkR",
        "outputId": "bc7ba526-d738-4901-bbae-840da004c5d6"
      },
      "outputs": [
        {
          "output_type": "stream",
          "name": "stdout",
          "text": [
            "[['Malaysia' 44.0 72000.0]\n",
            " ['Singapore' 27.0 48000.0]\n",
            " ['Thailand' 30.0 58250.0]\n",
            " ['Indonesia' 38.22222222222222 61000.0]\n",
            " ['Indonesia' 40.0 25000.0]\n",
            " ['Singapore' 35.0 58000.0]\n",
            " ['Thailand' 40.0 52000.0]\n",
            " ['Malaysia' 48.0 58250.0]\n",
            " ['Indonesia' 50.0 83000.0]\n",
            " ['China' 30.0 67000.0]]\n"
          ]
        }
      ],
      "source": [
        "print(x)"
      ]
    },
    {
      "cell_type": "code",
      "execution_count": 20,
      "metadata": {
        "id": "fc9Xxs3s72PH"
      },
      "outputs": [],
      "source": [
        "from sklearn.compose import ColumnTransformer\n",
        "from sklearn.preprocessing import OneHotEncoder\n",
        "ct = ColumnTransformer(transformers=[('encoder', OneHotEncoder(), [0])], remainder='passthrough')\n",
        "x = np.array(ct.fit_transform(x))"
      ]
    },
    {
      "cell_type": "code",
      "execution_count": 21,
      "metadata": {
        "colab": {
          "base_uri": "https://localhost:8080/"
        },
        "id": "wHQu5Mqw8K5B",
        "outputId": "0b449c25-a1d3-428c-f838-cf983d13d69e"
      },
      "outputs": [
        {
          "output_type": "stream",
          "name": "stdout",
          "text": [
            "[[0.0 0.0 1.0 0.0 0.0 44.0 72000.0]\n",
            " [0.0 0.0 0.0 1.0 0.0 27.0 48000.0]\n",
            " [0.0 0.0 0.0 0.0 1.0 30.0 58250.0]\n",
            " [0.0 1.0 0.0 0.0 0.0 38.22222222222222 61000.0]\n",
            " [0.0 1.0 0.0 0.0 0.0 40.0 25000.0]\n",
            " [0.0 0.0 0.0 1.0 0.0 35.0 58000.0]\n",
            " [0.0 0.0 0.0 0.0 1.0 40.0 52000.0]\n",
            " [0.0 0.0 1.0 0.0 0.0 48.0 58250.0]\n",
            " [0.0 1.0 0.0 0.0 0.0 50.0 83000.0]\n",
            " [1.0 0.0 0.0 0.0 0.0 30.0 67000.0]]\n"
          ]
        }
      ],
      "source": [
        "print(x)"
      ]
    },
    {
      "cell_type": "code",
      "execution_count": 22,
      "metadata": {
        "id": "ZvjOeUs67-7b"
      },
      "outputs": [],
      "source": [
        "from sklearn.preprocessing import LabelEncoder\n",
        "le = LabelEncoder()\n",
        "y = le.fit_transform(y)"
      ]
    },
    {
      "cell_type": "code",
      "execution_count": 23,
      "metadata": {
        "colab": {
          "base_uri": "https://localhost:8080/"
        },
        "id": "mEB8Re868CS-",
        "outputId": "0c7ded7b-9fa7-411b-daf7-9ec1659f1c91"
      },
      "outputs": [
        {
          "output_type": "stream",
          "name": "stdout",
          "text": [
            "[0 1 0 1 0 1 1 1 0 1]\n"
          ]
        }
      ],
      "source": [
        "print(y)"
      ]
    },
    {
      "cell_type": "code",
      "execution_count": 24,
      "metadata": {
        "id": "h5Q6QRF-8OBu"
      },
      "outputs": [],
      "source": [
        "from sklearn.model_selection import train_test_split\n",
        "x_train, x_test, y_train, y_test = train_test_split(x, y, test_size=0.2, random_state=1)"
      ]
    },
    {
      "cell_type": "code",
      "execution_count": 25,
      "metadata": {
        "colab": {
          "base_uri": "https://localhost:8080/"
        },
        "id": "5ksLN-wI8RZw",
        "outputId": "f0cbd6cc-b16b-4983-d98f-03b1b250301d"
      },
      "outputs": [
        {
          "output_type": "stream",
          "name": "stdout",
          "text": [
            "[[0.0 0.0 0.0 0.0 1.0 40.0 52000.0]\n",
            " [0.0 1.0 0.0 0.0 0.0 40.0 25000.0]\n",
            " [0.0 0.0 1.0 0.0 0.0 44.0 72000.0]\n",
            " [0.0 1.0 0.0 0.0 0.0 38.22222222222222 61000.0]\n",
            " [0.0 0.0 0.0 1.0 0.0 27.0 48000.0]\n",
            " [0.0 0.0 1.0 0.0 0.0 48.0 58250.0]\n",
            " [0.0 1.0 0.0 0.0 0.0 50.0 83000.0]\n",
            " [0.0 0.0 0.0 1.0 0.0 35.0 58000.0]]\n"
          ]
        }
      ],
      "source": [
        "print(x_train)"
      ]
    },
    {
      "cell_type": "code",
      "execution_count": 26,
      "metadata": {
        "colab": {
          "base_uri": "https://localhost:8080/"
        },
        "id": "SxdSWNs58YSr",
        "outputId": "5de111bf-1cb8-4574-ff8b-cfd4f238862b"
      },
      "outputs": [
        {
          "output_type": "stream",
          "name": "stdout",
          "text": [
            "[[0.0 0.0 0.0 0.0 1.0 30.0 58250.0]\n",
            " [1.0 0.0 0.0 0.0 0.0 30.0 67000.0]]\n"
          ]
        }
      ],
      "source": [
        "print(x_test)"
      ]
    },
    {
      "cell_type": "code",
      "execution_count": 27,
      "metadata": {
        "colab": {
          "base_uri": "https://localhost:8080/"
        },
        "id": "5DWwQi7z8enD",
        "outputId": "b0bfdf7b-5cd4-4706-c2ab-9dfc291fbf98"
      },
      "outputs": [
        {
          "output_type": "stream",
          "name": "stdout",
          "text": [
            "[1 0 0 1 1 1 0 1]\n"
          ]
        }
      ],
      "source": [
        "print(y_train)"
      ]
    },
    {
      "cell_type": "code",
      "execution_count": 28,
      "metadata": {
        "colab": {
          "base_uri": "https://localhost:8080/"
        },
        "id": "zv2gZdeM8k6P",
        "outputId": "ae5e1115-85be-45c5-bd07-368ec8aa637b"
      },
      "outputs": [
        {
          "output_type": "stream",
          "name": "stdout",
          "text": [
            "[0 1]\n"
          ]
        }
      ],
      "source": [
        "print(y_test)"
      ]
    },
    {
      "cell_type": "code",
      "execution_count": 29,
      "metadata": {
        "id": "JIrQpLt58nNn"
      },
      "outputs": [],
      "source": [
        "from sklearn.preprocessing import StandardScaler\n",
        "sc = StandardScaler()\n",
        "x_train[:, 3:] = sc.fit_transform(x_train[:, 3:])\n",
        "x_test[:, 3:] = sc.transform(x_test[:, 3:])"
      ]
    },
    {
      "cell_type": "code",
      "execution_count": 30,
      "metadata": {
        "colab": {
          "base_uri": "https://localhost:8080/"
        },
        "id": "m9EUPVmb-RcI",
        "outputId": "6b64b360-23a3-4a66-dea9-aaa983f9fd99"
      },
      "outputs": [
        {
          "output_type": "stream",
          "name": "stdout",
          "text": [
            "[[0.0 0.0 0.0 -0.5773502691896258 2.6457513110645903 -0.04048881650894592\n",
            "  -0.3221581110696072]\n",
            " [0.0 1.0 0.0 -0.5773502691896258 -0.3779644730092272\n",
            "  -0.04048881650894592 -2.0090951290340957]\n",
            " [0.0 0.0 1.0 -0.5773502691896258 -0.3779644730092272 0.5425501412198735\n",
            "  0.9274248652003844]\n",
            " [0.0 1.0 0.0 -0.5773502691896258 -0.3779644730092272\n",
            "  -0.29961724216619917 0.24015422825188898]\n",
            " [0.0 0.0 0.0 1.7320508075688774 -0.3779644730092272 -1.9353654291276094\n",
            "  -0.5720747063236055]\n",
            " [0.0 0.0 1.0 -0.5773502691896258 -0.3779644730092272 1.1255890989486932\n",
            "  0.06833656901476516]\n",
            " [0.0 1.0 0.0 -0.5773502691896258 -0.3779644730092272 1.417108577813103\n",
            "  1.6146955021488796]\n",
            " [0.0 0.0 0.0 1.7320508075688774 -0.3779644730092272 -0.7692875136699703\n",
            "  0.052716781811390265]]\n"
          ]
        }
      ],
      "source": [
        "print(x_train)"
      ]
    },
    {
      "cell_type": "code",
      "execution_count": 31,
      "metadata": {
        "colab": {
          "base_uri": "https://localhost:8080/"
        },
        "id": "XWVIgwef-VDO",
        "outputId": "bfff48bd-3fcc-49ee-9700-5068a1f6da99"
      },
      "outputs": [
        {
          "output_type": "stream",
          "name": "stdout",
          "text": [
            "[[0.0 0.0 0.0 -0.5773502691896258 2.6457513110645903 -1.4980862108309947\n",
            "  0.06833656901476516]\n",
            " [1.0 0.0 0.0 -0.5773502691896258 -0.3779644730092272 -1.4980862108309947\n",
            "  0.6150291211328864]]\n"
          ]
        }
      ],
      "source": [
        "print(x_test)"
      ]
    }
  ],
  "metadata": {
    "colab": {
      "provenance": []
    },
    "kernelspec": {
      "display_name": "Python 3",
      "language": "python",
      "name": "python3"
    },
    "language_info": {
      "codemirror_mode": {
        "name": "ipython",
        "version": 3
      },
      "file_extension": ".py",
      "mimetype": "text/x-python",
      "name": "python",
      "nbconvert_exporter": "python",
      "pygments_lexer": "ipython3",
      "version": "3.9.2"
    }
  },
  "nbformat": 4,
  "nbformat_minor": 0
}